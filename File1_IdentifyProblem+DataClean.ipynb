{
 "cells": [
  {
   "cell_type": "markdown",
   "metadata": {
    "nbpresent": {
     "id": "f9774957-e9a8-4e5d-a3a2-11d58c98f4f3"
    },
    "slideshow": {
     "slide_type": "slide"
    }
   },
   "source": [
    "# Using Predictive Analysis To Predict Diagnosis of a Breast Tumor \n",
    "  \n",
    "  \n",
    " By Yussuf Abdinoor Mohammed\n",
    "\n",
    "## 1. Identify the problem\n",
    "Breast cancer is the most common malignancy among women, accounting for nearly 1 in 3 cancers diagnosed among women in the United States, and it is the second leading cause of cancer death among women. Breast Cancer occurs as a results of abnormal growth of cells in the breast tissue, commonly referred to as a Tumor. A tumor does not mean cancer - tumors can be:\n",
    "-benign (not cancerous), \n",
    "-pre-malignant (pre-cancerous), \n",
    "-malignant (cancerous). \n",
    "Tests such as MRI, mammogram, ultrasound and biopsy are commonly used to diagnose breast cancer performed.\n",
    "\n",
    "### 1.1 Expected outcome\n",
    "Given breast cancer results from breast fine needle aspiration (FNA) test (is a quick and simple procedure to perform, which removes some fluid or cells from a breast lesion or cyst (a lump, sore or swelling) with a fine needle similar to a blood sample needle). Since this build a model that can classify a breast cancer tumor using two training classification:\n",
    "* 1= Malignant (Cancerous) - Present\n",
    "* 0= Benign (Not Cancerous) -Absent\n",
    "\n",
    "### 1.2 Objective \n",
    "Since the labels in the data are discrete, the predication falls into two categories, (i.e. Malignant or benign). In machine learning this is a classification problem. \n",
    "        \n",
    "> *Thus, the goal is to classify whether the breast cancer is benign or malignant and predict the recurrence and non-recurrence of malignant cases after a certain period.  To achieve this we have used machine learning classification methods to fit a function that can predict the discrete class of new input.*\n",
    "\n",
    "### 1.3 Identify data sources\n",
    "The [Breast Cancer]datasets is available machine learning repository maintained by the University of California, Irvine. The dataset contains **569 samples of malignant and benign tumor cells**. \n",
    "* The first two columns in the dataset store the unique ID numbers of the samples and the corresponding diagnosis (M=malignant, B=benign), respectively. \n",
    "* The columns 3-32 contain 30 real-value features that have been computed from digitized images of the cell nuclei, which can be used to build a model to predict whether a tumor is benign or malignant. \n",
    "\n",
    "#### Getting Started: Load libraries and set options "
   ]
  },
  {
   "cell_type": "code",
   "execution_count": 4,
   "metadata": {
    "nbpresent": {
     "id": "e7a5c9bd-eaa8-4f5e-9e19-18ceea5e11af"
    },
    "slideshow": {
     "slide_type": "subslide"
    }
   },
   "outputs": [],
   "source": [
    "#load libraries\n",
    "import numpy as np         # linear algebra\n",
    "import pandas as pd        # data processing, CSV file I/O (e.g. pd.read_csv)\n",
    "\n",
    "# Read the file \"data.csv\" and print the contents.\n",
    "#!cat data/data.csv\n",
    "data = pd.read_csv('data/data.csv', index_col=False,)"
   ]
  },
  {
   "cell_type": "markdown",
   "metadata": {
    "nbpresent": {
     "id": "818004ce-3b93-48be-9fb8-9bacb0f07f33"
    }
   },
   "source": [
    "#### Load Dataset\n",
    "\n",
    "First, load the supplied CSV file using additional options in the Pandas read_csv function. "
   ]
  },
  {
   "cell_type": "markdown",
   "metadata": {
    "nbpresent": {
     "id": "b6af97c7-30d4-4fc6-b9d5-a213f70788c2"
    }
   },
   "source": [
    "#### Inspecting the data\n",
    "The first step is to visually inspect the new data set. There are multiple ways to achieve this:\n",
    "* The easiest being to request the first few records using the DataFrame data.head()* method. By default, “data.head()” returns the first 5 rows from the DataFrame object df (excluding the header row). \n",
    "* Alternatively, one can also use “df.tail()” to return the five rows of the data frame. \n",
    "* For both head and  tail methods, there is an option to specify the number of records by including the required number in between the parentheses when calling either method.Inspecting the data"
   ]
  },
  {
   "cell_type": "code",
   "execution_count": 5,
   "metadata": {
    "nbpresent": {
     "id": "3411a17b-52dd-4b3d-8ec4-22e6ea79a516"
    }
   },
   "outputs": [
    {
     "data": {
      "text/html": [
       "<div>\n",
       "<style scoped>\n",
       "    .dataframe tbody tr th:only-of-type {\n",
       "        vertical-align: middle;\n",
       "    }\n",
       "\n",
       "    .dataframe tbody tr th {\n",
       "        vertical-align: top;\n",
       "    }\n",
       "\n",
       "    .dataframe thead th {\n",
       "        text-align: right;\n",
       "    }\n",
       "</style>\n",
       "<table border=\"1\" class=\"dataframe\">\n",
       "  <thead>\n",
       "    <tr style=\"text-align: right;\">\n",
       "      <th></th>\n",
       "      <th>id</th>\n",
       "      <th>diagnosis</th>\n",
       "      <th>radius_mean</th>\n",
       "      <th>texture_mean</th>\n",
       "      <th>perimeter_mean</th>\n",
       "      <th>area_mean</th>\n",
       "      <th>smoothness_mean</th>\n",
       "      <th>compactness_mean</th>\n",
       "      <th>concavity_mean</th>\n",
       "      <th>concave points_mean</th>\n",
       "      <th>...</th>\n",
       "      <th>radius_worst</th>\n",
       "      <th>texture_worst</th>\n",
       "      <th>perimeter_worst</th>\n",
       "      <th>area_worst</th>\n",
       "      <th>smoothness_worst</th>\n",
       "      <th>compactness_worst</th>\n",
       "      <th>concavity_worst</th>\n",
       "      <th>concave points_worst</th>\n",
       "      <th>symmetry_worst</th>\n",
       "      <th>fractal_dimension_worst</th>\n",
       "    </tr>\n",
       "  </thead>\n",
       "  <tbody>\n",
       "    <tr>\n",
       "      <th>0</th>\n",
       "      <td>842302</td>\n",
       "      <td>M</td>\n",
       "      <td>17.99</td>\n",
       "      <td>10.38</td>\n",
       "      <td>122.8</td>\n",
       "      <td>1001.0</td>\n",
       "      <td>0.11840</td>\n",
       "      <td>0.27760</td>\n",
       "      <td>0.3001</td>\n",
       "      <td>0.14710</td>\n",
       "      <td>...</td>\n",
       "      <td>25.38</td>\n",
       "      <td>17.33</td>\n",
       "      <td>184.6</td>\n",
       "      <td>2019.0</td>\n",
       "      <td>0.1622</td>\n",
       "      <td>0.6656</td>\n",
       "      <td>0.7119</td>\n",
       "      <td>0.2654</td>\n",
       "      <td>0.4601</td>\n",
       "      <td>0.11890</td>\n",
       "    </tr>\n",
       "    <tr>\n",
       "      <th>1</th>\n",
       "      <td>842517</td>\n",
       "      <td>M</td>\n",
       "      <td>20.57</td>\n",
       "      <td>17.77</td>\n",
       "      <td>132.9</td>\n",
       "      <td>1326.0</td>\n",
       "      <td>0.08474</td>\n",
       "      <td>0.07864</td>\n",
       "      <td>0.0869</td>\n",
       "      <td>0.07017</td>\n",
       "      <td>...</td>\n",
       "      <td>24.99</td>\n",
       "      <td>23.41</td>\n",
       "      <td>158.8</td>\n",
       "      <td>1956.0</td>\n",
       "      <td>0.1238</td>\n",
       "      <td>0.1866</td>\n",
       "      <td>0.2416</td>\n",
       "      <td>0.1860</td>\n",
       "      <td>0.2750</td>\n",
       "      <td>0.08902</td>\n",
       "    </tr>\n",
       "  </tbody>\n",
       "</table>\n",
       "<p>2 rows × 32 columns</p>\n",
       "</div>"
      ],
      "text/plain": [
       "       id diagnosis  radius_mean  texture_mean  perimeter_mean  area_mean  \\\n",
       "0  842302         M        17.99         10.38           122.8     1001.0   \n",
       "1  842517         M        20.57         17.77           132.9     1326.0   \n",
       "\n",
       "   smoothness_mean  compactness_mean  concavity_mean  concave points_mean  \\\n",
       "0          0.11840           0.27760          0.3001              0.14710   \n",
       "1          0.08474           0.07864          0.0869              0.07017   \n",
       "\n",
       "   ...  radius_worst  texture_worst  perimeter_worst  area_worst  \\\n",
       "0  ...         25.38          17.33            184.6      2019.0   \n",
       "1  ...         24.99          23.41            158.8      1956.0   \n",
       "\n",
       "   smoothness_worst  compactness_worst  concavity_worst  concave points_worst  \\\n",
       "0            0.1622             0.6656           0.7119                0.2654   \n",
       "1            0.1238             0.1866           0.2416                0.1860   \n",
       "\n",
       "   symmetry_worst  fractal_dimension_worst  \n",
       "0          0.4601                  0.11890  \n",
       "1          0.2750                  0.08902  \n",
       "\n",
       "[2 rows x 32 columns]"
      ]
     },
     "execution_count": 5,
     "metadata": {},
     "output_type": "execute_result"
    }
   ],
   "source": [
    "data.head(2)"
   ]
  },
  {
   "cell_type": "markdown",
   "metadata": {
    "nbpresent": {
     "id": "dd80c7bb-5dfd-4bac-b1f9-92f09954a04d"
    }
   },
   "source": [
    "You can check the number of cases, as well as the number of fields, using the shape method, as shown below."
   ]
  },
  {
   "cell_type": "code",
   "execution_count": 6,
   "metadata": {
    "nbpresent": {
     "id": "678c0d45-faba-4084-9235-0923c653792a"
    }
   },
   "outputs": [
    {
     "data": {
      "text/html": [
       "<div>\n",
       "<style scoped>\n",
       "    .dataframe tbody tr th:only-of-type {\n",
       "        vertical-align: middle;\n",
       "    }\n",
       "\n",
       "    .dataframe tbody tr th {\n",
       "        vertical-align: top;\n",
       "    }\n",
       "\n",
       "    .dataframe thead th {\n",
       "        text-align: right;\n",
       "    }\n",
       "</style>\n",
       "<table border=\"1\" class=\"dataframe\">\n",
       "  <thead>\n",
       "    <tr style=\"text-align: right;\">\n",
       "      <th></th>\n",
       "      <th>diagnosis</th>\n",
       "      <th>radius_mean</th>\n",
       "      <th>texture_mean</th>\n",
       "      <th>perimeter_mean</th>\n",
       "      <th>area_mean</th>\n",
       "      <th>smoothness_mean</th>\n",
       "      <th>compactness_mean</th>\n",
       "      <th>concavity_mean</th>\n",
       "      <th>concave points_mean</th>\n",
       "      <th>symmetry_mean</th>\n",
       "      <th>...</th>\n",
       "      <th>radius_worst</th>\n",
       "      <th>texture_worst</th>\n",
       "      <th>perimeter_worst</th>\n",
       "      <th>area_worst</th>\n",
       "      <th>smoothness_worst</th>\n",
       "      <th>compactness_worst</th>\n",
       "      <th>concavity_worst</th>\n",
       "      <th>concave points_worst</th>\n",
       "      <th>symmetry_worst</th>\n",
       "      <th>fractal_dimension_worst</th>\n",
       "    </tr>\n",
       "  </thead>\n",
       "  <tbody>\n",
       "    <tr>\n",
       "      <th>0</th>\n",
       "      <td>M</td>\n",
       "      <td>17.99</td>\n",
       "      <td>10.38</td>\n",
       "      <td>122.8</td>\n",
       "      <td>1001.0</td>\n",
       "      <td>0.11840</td>\n",
       "      <td>0.27760</td>\n",
       "      <td>0.3001</td>\n",
       "      <td>0.14710</td>\n",
       "      <td>0.2419</td>\n",
       "      <td>...</td>\n",
       "      <td>25.38</td>\n",
       "      <td>17.33</td>\n",
       "      <td>184.6</td>\n",
       "      <td>2019.0</td>\n",
       "      <td>0.1622</td>\n",
       "      <td>0.6656</td>\n",
       "      <td>0.7119</td>\n",
       "      <td>0.2654</td>\n",
       "      <td>0.4601</td>\n",
       "      <td>0.11890</td>\n",
       "    </tr>\n",
       "    <tr>\n",
       "      <th>1</th>\n",
       "      <td>M</td>\n",
       "      <td>20.57</td>\n",
       "      <td>17.77</td>\n",
       "      <td>132.9</td>\n",
       "      <td>1326.0</td>\n",
       "      <td>0.08474</td>\n",
       "      <td>0.07864</td>\n",
       "      <td>0.0869</td>\n",
       "      <td>0.07017</td>\n",
       "      <td>0.1812</td>\n",
       "      <td>...</td>\n",
       "      <td>24.99</td>\n",
       "      <td>23.41</td>\n",
       "      <td>158.8</td>\n",
       "      <td>1956.0</td>\n",
       "      <td>0.1238</td>\n",
       "      <td>0.1866</td>\n",
       "      <td>0.2416</td>\n",
       "      <td>0.1860</td>\n",
       "      <td>0.2750</td>\n",
       "      <td>0.08902</td>\n",
       "    </tr>\n",
       "  </tbody>\n",
       "</table>\n",
       "<p>2 rows × 31 columns</p>\n",
       "</div>"
      ],
      "text/plain": [
       "  diagnosis  radius_mean  texture_mean  perimeter_mean  area_mean  \\\n",
       "0         M        17.99         10.38           122.8     1001.0   \n",
       "1         M        20.57         17.77           132.9     1326.0   \n",
       "\n",
       "   smoothness_mean  compactness_mean  concavity_mean  concave points_mean  \\\n",
       "0          0.11840           0.27760          0.3001              0.14710   \n",
       "1          0.08474           0.07864          0.0869              0.07017   \n",
       "\n",
       "   symmetry_mean  ...  radius_worst  texture_worst  perimeter_worst  \\\n",
       "0         0.2419  ...         25.38          17.33            184.6   \n",
       "1         0.1812  ...         24.99          23.41            158.8   \n",
       "\n",
       "   area_worst  smoothness_worst  compactness_worst  concavity_worst  \\\n",
       "0      2019.0            0.1622             0.6656           0.7119   \n",
       "1      1956.0            0.1238             0.1866           0.2416   \n",
       "\n",
       "   concave points_worst  symmetry_worst  fractal_dimension_worst  \n",
       "0                0.2654          0.4601                  0.11890  \n",
       "1                0.1860          0.2750                  0.08902  \n",
       "\n",
       "[2 rows x 31 columns]"
      ]
     },
     "execution_count": 6,
     "metadata": {},
     "output_type": "execute_result"
    }
   ],
   "source": [
    "# Id column is redundant and not useful, we want to drop it\n",
    "data.drop('id', axis =1, inplace=True)\n",
    "#data.drop('Unnamed: 0', axis=1, inplace=True)\n",
    "data.head(2)"
   ]
  },
  {
   "cell_type": "code",
   "execution_count": 7,
   "metadata": {
    "nbpresent": {
     "id": "0a72bf45-3489-4633-a99f-d4fba5d072ac"
    }
   },
   "outputs": [
    {
     "data": {
      "text/plain": [
       "(569, 31)"
      ]
     },
     "execution_count": 7,
     "metadata": {},
     "output_type": "execute_result"
    }
   ],
   "source": [
    "data.shape"
   ]
  },
  {
   "cell_type": "markdown",
   "metadata": {
    "nbpresent": {
     "id": "01bd515a-1951-4ae7-8d39-a96079fc9eff"
    }
   },
   "source": [
    "In the result displayed, you can see the data has 569 records, each with 32 columns.\n",
    "\n",
    "The **“info()”** method provides a concise summary of the data; from the output, it provides the type of data in each column, the number of non-null values in each column, and how much memory the data frame is using.\n",
    "\n",
    "The method **get_dtype_counts()** will return the number of columns of each type in a DataFrame:"
   ]
  },
  {
   "cell_type": "code",
   "execution_count": 10,
   "metadata": {
    "nbpresent": {
     "id": "e6f8be49-68cc-4381-9b0f-c872712045b6"
    }
   },
   "outputs": [
    {
     "name": "stdout",
     "output_type": "stream",
     "text": [
      "<class 'pandas.core.frame.DataFrame'>\n",
      "RangeIndex: 569 entries, 0 to 568\n",
      "Data columns (total 31 columns):\n",
      " #   Column                   Non-Null Count  Dtype  \n",
      "---  ------                   --------------  -----  \n",
      " 0   diagnosis                569 non-null    object \n",
      " 1   radius_mean              569 non-null    float64\n",
      " 2   texture_mean             569 non-null    float64\n",
      " 3   perimeter_mean           569 non-null    float64\n",
      " 4   area_mean                569 non-null    float64\n",
      " 5   smoothness_mean          569 non-null    float64\n",
      " 6   compactness_mean         569 non-null    float64\n",
      " 7   concavity_mean           569 non-null    float64\n",
      " 8   concave points_mean      569 non-null    float64\n",
      " 9   symmetry_mean            569 non-null    float64\n",
      " 10  fractal_dimension_mean   569 non-null    float64\n",
      " 11  radius_se                569 non-null    float64\n",
      " 12  texture_se               569 non-null    float64\n",
      " 13  perimeter_se             569 non-null    float64\n",
      " 14  area_se                  569 non-null    float64\n",
      " 15  smoothness_se            569 non-null    float64\n",
      " 16  compactness_se           569 non-null    float64\n",
      " 17  concavity_se             569 non-null    float64\n",
      " 18  concave points_se        569 non-null    float64\n",
      " 19  symmetry_se              569 non-null    float64\n",
      " 20  fractal_dimension_se     569 non-null    float64\n",
      " 21  radius_worst             569 non-null    float64\n",
      " 22  texture_worst            569 non-null    float64\n",
      " 23  perimeter_worst          569 non-null    float64\n",
      " 24  area_worst               569 non-null    float64\n",
      " 25  smoothness_worst         569 non-null    float64\n",
      " 26  compactness_worst        569 non-null    float64\n",
      " 27  concavity_worst          569 non-null    float64\n",
      " 28  concave points_worst     569 non-null    float64\n",
      " 29  symmetry_worst           569 non-null    float64\n",
      " 30  fractal_dimension_worst  569 non-null    float64\n",
      "dtypes: float64(30), object(1)\n",
      "memory usage: 137.9+ KB\n"
     ]
    }
   ],
   "source": [
    "\n",
    "data.info()"
   ]
  },
  {
   "cell_type": "markdown",
   "metadata": {
    "nbpresent": {
     "id": "65d636e8-6dca-4a24-988f-10dac2b05134"
    }
   },
   "source": [
    "From the above results, from the 32, variables,column id number 1 is an integer, diagnosis 569 non-null object. and rest are float. More on [python variables](https://www.tutorialspoint.com/python/python_variable_types.htm)"
   ]
  },
  {
   "cell_type": "code",
   "execution_count": 11,
   "metadata": {
    "nbpresent": {
     "id": "73ab9300-46cb-4deb-a673-7b6f0ea718bc"
    }
   },
   "outputs": [],
   "source": [
    "#check for missing variables\n",
    "#data.isnull().any()"
   ]
  },
  {
   "cell_type": "code",
   "execution_count": 12,
   "metadata": {
    "nbpresent": {
     "id": "5f0c338b-0d11-4d51-836a-e003c07412ee"
    }
   },
   "outputs": [
    {
     "data": {
      "text/plain": [
       "array(['M', 'B'], dtype=object)"
      ]
     },
     "execution_count": 12,
     "metadata": {},
     "output_type": "execute_result"
    }
   ],
   "source": [
    "data.diagnosis.unique()"
   ]
  },
  {
   "cell_type": "markdown",
   "metadata": {
    "nbpresent": {
     "id": "a043ba25-f180-41cf-b29b-ec7e6bab8d57"
    }
   },
   "source": [
    "From the results above, diagnosis is a categorical variable, because it represents a fix number of possible values (i.e, Malignant, of Benign. The machine learning algorithms wants numbers, and not strings, as their inputs so we need some method of coding to convert them.\n",
    "\n"
   ]
  },
  {
   "cell_type": "code",
   "execution_count": null,
   "metadata": {
    "collapsed": true,
    "nbpresent": {
     "id": "06fb5119-7446-4892-a2a5-4770b4f98297"
    }
   },
   "outputs": [],
   "source": [
    "#save the cleaner version of dataframe for future analyis\n",
    "data.to_csv('data/clean-data.csv')"
   ]
  },
  {
   "cell_type": "markdown",
   "metadata": {
    "collapsed": true,
    "nbpresent": {
     "id": "9469d4ac-470e-4b21-a460-bdfb54fd0d4f"
    }
   },
   "source": [
    ">Next step involves taking a closer look at attributes and data values. \n",
    "File 2::ExploratoryDataAnalys, we will explore the data further"
   ]
  },
  {
   "cell_type": "code",
   "execution_count": null,
   "metadata": {},
   "outputs": [],
   "source": []
  }
 ],
 "metadata": {
  "anaconda-cloud": {},
  "kernelspec": {
   "display_name": "Python 3 (ipykernel)",
   "language": "python",
   "name": "python3"
  },
  "language_info": {
   "codemirror_mode": {
    "name": "ipython",
    "version": 3
   },
   "file_extension": ".py",
   "mimetype": "text/x-python",
   "name": "python",
   "nbconvert_exporter": "python",
   "pygments_lexer": "ipython3",
   "version": "3.11.5"
  },
  "nbpresent": {
   "slides": {
    "029765a0-324f-4829-89ed-d4c3d7bdfa56": {
     "id": "029765a0-324f-4829-89ed-d4c3d7bdfa56",
     "prev": "eb53caf1-dd5e-40f6-a08e-acb2c9064355",
     "regions": {
      "020ba674-4256-4ab4-93a1-7e0e7a2161ba": {
       "attrs": {
        "height": 0.8,
        "width": 0.8,
        "x": 0.1,
        "y": 0.1
       },
       "content": {
        "cell": "e6f8be49-68cc-4381-9b0f-c872712045b6",
        "part": "whole"
       },
       "id": "020ba674-4256-4ab4-93a1-7e0e7a2161ba"
      }
     }
    },
    "17063b65-52ab-4296-866f-1732fbe2b4c5": {
     "id": "17063b65-52ab-4296-866f-1732fbe2b4c5",
     "prev": "c5378b35-bbe4-43b7-9739-6d787ad32ada",
     "regions": {
      "a2944b54-cb8b-4d2d-9a89-e0fdfc9a5a03": {
       "attrs": {
        "height": 0.8,
        "width": 0.8,
        "x": 0.1,
        "y": 0.1
       },
       "content": {
        "cell": "b6af97c7-30d4-4fc6-b9d5-a213f70788c2",
        "part": "whole"
       },
       "id": "a2944b54-cb8b-4d2d-9a89-e0fdfc9a5a03"
      }
     }
    },
    "1ce04cdb-6165-4b4f-aaf7-e856a34a5139": {
     "id": "1ce04cdb-6165-4b4f-aaf7-e856a34a5139",
     "prev": "3ae68135-1f69-426a-baea-d9929a65e1c1",
     "regions": {
      "26b78508-b18f-4e94-9db0-4e860e9aeef3": {
       "attrs": {
        "height": 0.8,
        "width": 0.8,
        "x": 0.1,
        "y": 0.1
       },
       "content": {
        "cell": "73ab9300-46cb-4deb-a673-7b6f0ea718bc",
        "part": "whole"
       },
       "id": "26b78508-b18f-4e94-9db0-4e860e9aeef3"
      }
     }
    },
    "364cf224-3a9c-4786-a47f-522b3613c613": {
     "id": "364cf224-3a9c-4786-a47f-522b3613c613",
     "prev": "58d1aade-0c9f-4b85-8ac1-1ce8631623e8",
     "regions": {
      "6996a269-8482-407e-8720-5ae4f5c7dbd2": {
       "attrs": {
        "height": 0.8,
        "width": 0.8,
        "x": 0.1,
        "y": 0.1
       },
       "content": {
        "cell": "06fb5119-7446-4892-a2a5-4770b4f98297",
        "part": "whole"
       },
       "id": "6996a269-8482-407e-8720-5ae4f5c7dbd2"
      }
     }
    },
    "3ae68135-1f69-426a-baea-d9929a65e1c1": {
     "id": "3ae68135-1f69-426a-baea-d9929a65e1c1",
     "prev": "e7e979eb-a900-4dea-b580-ce7a8750f2ed",
     "regions": {
      "bd9adb8d-a5a5-4462-bf77-b75de0851d0a": {
       "attrs": {
        "height": 0.8,
        "width": 0.8,
        "x": 0.1,
        "y": 0.1
       },
       "content": {
        "cell": "65d636e8-6dca-4a24-988f-10dac2b05134",
        "part": "whole"
       },
       "id": "bd9adb8d-a5a5-4462-bf77-b75de0851d0a"
      }
     }
    },
    "504c799a-10a2-49b6-84c5-f8183c00d180": {
     "id": "504c799a-10a2-49b6-84c5-f8183c00d180",
     "prev": "f110b360-85b7-4b4b-b99f-6d7647b3bed6",
     "regions": {
      "cc92786c-5118-4036-84aa-87fa91d28467": {
       "attrs": {
        "height": 0.8,
        "width": 0.8,
        "x": 0.1,
        "y": 0.1
       },
       "content": {
        "cell": "3749cd67-821c-4c70-b6e1-c9fa76be4ee8",
        "part": "whole"
       },
       "id": "cc92786c-5118-4036-84aa-87fa91d28467"
      }
     }
    },
    "58d1aade-0c9f-4b85-8ac1-1ce8631623e8": {
     "id": "58d1aade-0c9f-4b85-8ac1-1ce8631623e8",
     "prev": "d46dbd63-6e42-4de8-a34a-d797e2bf75a2",
     "regions": {
      "2814a179-b51d-4b1e-b1ea-05830fdc84ff": {
       "attrs": {
        "height": 0.8,
        "width": 0.8,
        "x": 0.1,
        "y": 0.1
       },
       "content": {
        "cell": "a043ba25-f180-41cf-b29b-ec7e6bab8d57",
        "part": "whole"
       },
       "id": "2814a179-b51d-4b1e-b1ea-05830fdc84ff"
      }
     }
    },
    "8752525b-c794-48fe-8aa7-d4a85bdf53fa": {
     "id": "8752525b-c794-48fe-8aa7-d4a85bdf53fa",
     "prev": "df830ab6-e594-43d4-a9ad-f241e13b1278",
     "regions": {
      "7226298c-bfa5-44a2-bd6d-21fb50409904": {
       "attrs": {
        "height": 0.8,
        "width": 0.8,
        "x": 0.1,
        "y": 0.1
       },
       "content": {
        "cell": "678c0d45-faba-4084-9235-0923c653792a",
        "part": "whole"
       },
       "id": "7226298c-bfa5-44a2-bd6d-21fb50409904"
      }
     }
    },
    "92de18eb-29ed-44b0-83c8-95db511e0e55": {
     "id": "92de18eb-29ed-44b0-83c8-95db511e0e55",
     "prev": "8752525b-c794-48fe-8aa7-d4a85bdf53fa",
     "regions": {
      "9f8e4fc0-1a4c-4f98-964f-9027dcfb6df5": {
       "attrs": {
        "height": 0.8,
        "width": 0.8,
        "x": 0.1,
        "y": 0.1
       },
       "content": {
        "cell": "0a72bf45-3489-4633-a99f-d4fba5d072ac",
        "part": "whole"
       },
       "id": "9f8e4fc0-1a4c-4f98-964f-9027dcfb6df5"
      }
     }
    },
    "98ca86b5-1929-489d-bc0c-5095a542b89f": {
     "id": "98ca86b5-1929-489d-bc0c-5095a542b89f",
     "prev": null,
     "regions": {
      "4080ad88-0b11-4a89-a777-7a22dcc73104": {
       "attrs": {
        "height": 0.8,
        "width": 0.8,
        "x": 0.1,
        "y": 0.1
       },
       "content": {
        "cell": "9f1df27f-184a-4b8b-bac6-951c73073085",
        "part": "whole"
       },
       "id": "4080ad88-0b11-4a89-a777-7a22dcc73104"
      }
     }
    },
    "98e9ac6a-316b-4e29-b4ee-bc6a149ceffb": {
     "id": "98e9ac6a-316b-4e29-b4ee-bc6a149ceffb",
     "prev": "c8da1fba-4fc5-4f36-8fac-423cbb55f44a",
     "regions": {
      "4cd7cf6b-40c0-4886-a5cc-a8821d855a7b": {
       "attrs": {
        "height": 0.8,
        "width": 0.8,
        "x": 0.1,
        "y": 0.1
       },
       "content": {
        "cell": "818004ce-3b93-48be-9fb8-9bacb0f07f33",
        "part": "whole"
       },
       "id": "4cd7cf6b-40c0-4886-a5cc-a8821d855a7b"
      }
     }
    },
    "adcf599c-e7e7-4245-b171-d38d06a41644": {
     "id": "adcf599c-e7e7-4245-b171-d38d06a41644",
     "prev": "d93546de-291d-4547-8f16-425c2edc33ee",
     "regions": {
      "342e1946-4183-4572-994d-5cc77c8b1ab6": {
       "attrs": {
        "height": 0.8,
        "width": 0.8,
        "x": 0.1,
        "y": 0.1
       },
       "content": {
        "cell": "a7e09e9f-7609-4cb0-b81e-67442d426e0d",
        "part": "whole"
       },
       "id": "342e1946-4183-4572-994d-5cc77c8b1ab6"
      }
     }
    },
    "c5378b35-bbe4-43b7-9739-6d787ad32ada": {
     "id": "c5378b35-bbe4-43b7-9739-6d787ad32ada",
     "prev": "98e9ac6a-316b-4e29-b4ee-bc6a149ceffb",
     "regions": {
      "2b8bbb2a-fa7f-4a72-80ce-f5deb38e8b22": {
       "attrs": {
        "height": 0.8,
        "width": 0.8,
        "x": 0.1,
        "y": 0.1
       },
       "content": {
        "cell": "34efc993-87f8-4055-bde3-0231aacc0579",
        "part": "whole"
       },
       "id": "2b8bbb2a-fa7f-4a72-80ce-f5deb38e8b22"
      }
     }
    },
    "c8da1fba-4fc5-4f36-8fac-423cbb55f44a": {
     "id": "c8da1fba-4fc5-4f36-8fac-423cbb55f44a",
     "prev": "adcf599c-e7e7-4245-b171-d38d06a41644",
     "regions": {
      "5acfa550-6a81-4477-afe6-a6d1de5d5fb4": {
       "attrs": {
        "height": 0.8,
        "width": 0.8,
        "x": 0.1,
        "y": 0.1
       },
       "content": {
        "cell": "e7a5c9bd-eaa8-4f5e-9e19-18ceea5e11af",
        "part": "whole"
       },
       "id": "5acfa550-6a81-4477-afe6-a6d1de5d5fb4"
      }
     }
    },
    "d46dbd63-6e42-4de8-a34a-d797e2bf75a2": {
     "id": "d46dbd63-6e42-4de8-a34a-d797e2bf75a2",
     "prev": "1ce04cdb-6165-4b4f-aaf7-e856a34a5139",
     "regions": {
      "993139e0-e0c0-4d94-a67a-8d83eb3ab97b": {
       "attrs": {
        "height": 0.8,
        "width": 0.8,
        "x": 0.1,
        "y": 0.1
       },
       "content": {
        "cell": "5f0c338b-0d11-4d51-836a-e003c07412ee",
        "part": "whole"
       },
       "id": "993139e0-e0c0-4d94-a67a-8d83eb3ab97b"
      }
     }
    },
    "d93546de-291d-4547-8f16-425c2edc33ee": {
     "id": "d93546de-291d-4547-8f16-425c2edc33ee",
     "prev": "98ca86b5-1929-489d-bc0c-5095a542b89f",
     "regions": {
      "a9485a01-dd0d-4ca2-a9a4-4dfa70d762af": {
       "attrs": {
        "height": 0.8,
        "width": 0.8,
        "x": 0.1,
        "y": 0.1
       },
       "content": {
        "cell": "f9774957-e9a8-4e5d-a3a2-11d58c98f4f3",
        "part": "whole"
       },
       "id": "a9485a01-dd0d-4ca2-a9a4-4dfa70d762af"
      }
     }
    },
    "df830ab6-e594-43d4-a9ad-f241e13b1278": {
     "id": "df830ab6-e594-43d4-a9ad-f241e13b1278",
     "prev": "e8f59263-df5b-41b7-b47a-b72401367b8c",
     "regions": {
      "539907c0-857c-49ab-a35b-689088d4d441": {
       "attrs": {
        "height": 0.8,
        "width": 0.8,
        "x": 0.1,
        "y": 0.1
       },
       "content": {
        "cell": "dd80c7bb-5dfd-4bac-b1f9-92f09954a04d",
        "part": "whole"
       },
       "id": "539907c0-857c-49ab-a35b-689088d4d441"
      }
     }
    },
    "e7e979eb-a900-4dea-b580-ce7a8750f2ed": {
     "id": "e7e979eb-a900-4dea-b580-ce7a8750f2ed",
     "prev": "029765a0-324f-4829-89ed-d4c3d7bdfa56",
     "regions": {
      "ef9a6766-0a12-4eb5-bb55-c45a7807f03e": {
       "attrs": {
        "height": 0.8,
        "width": 0.8,
        "x": 0.1,
        "y": 0.1
       },
       "content": {
        "cell": "a9522023-ad9b-4f5b-bc07-36ff15f1746a",
        "part": "whole"
       },
       "id": "ef9a6766-0a12-4eb5-bb55-c45a7807f03e"
      }
     }
    },
    "e8f59263-df5b-41b7-b47a-b72401367b8c": {
     "id": "e8f59263-df5b-41b7-b47a-b72401367b8c",
     "prev": "17063b65-52ab-4296-866f-1732fbe2b4c5",
     "regions": {
      "7f5be598-0698-4492-b474-a68934db4693": {
       "attrs": {
        "height": 0.8,
        "width": 0.8,
        "x": 0.1,
        "y": 0.1
       },
       "content": {
        "cell": "3411a17b-52dd-4b3d-8ec4-22e6ea79a516",
        "part": "whole"
       },
       "id": "7f5be598-0698-4492-b474-a68934db4693"
      }
     }
    },
    "eb53caf1-dd5e-40f6-a08e-acb2c9064355": {
     "id": "eb53caf1-dd5e-40f6-a08e-acb2c9064355",
     "prev": "92de18eb-29ed-44b0-83c8-95db511e0e55",
     "regions": {
      "0e9f4ac0-108d-4a56-8920-34eaa676bbd6": {
       "attrs": {
        "height": 0.8,
        "width": 0.8,
        "x": 0.1,
        "y": 0.1
       },
       "content": {
        "cell": "01bd515a-1951-4ae7-8d39-a96079fc9eff",
        "part": "whole"
       },
       "id": "0e9f4ac0-108d-4a56-8920-34eaa676bbd6"
      }
     }
    },
    "f110b360-85b7-4b4b-b99f-6d7647b3bed6": {
     "id": "f110b360-85b7-4b4b-b99f-6d7647b3bed6",
     "prev": "364cf224-3a9c-4786-a47f-522b3613c613",
     "regions": {
      "95a79cf2-40d9-401a-9392-2dff5250fc23": {
       "attrs": {
        "height": 0.8,
        "width": 0.8,
        "x": 0.1,
        "y": 0.1
       },
       "content": {
        "cell": "9469d4ac-470e-4b21-a460-bdfb54fd0d4f",
        "part": "whole"
       },
       "id": "95a79cf2-40d9-401a-9392-2dff5250fc23"
      }
     }
    }
   },
   "themes": {}
  }
 },
 "nbformat": 4,
 "nbformat_minor": 1
}
